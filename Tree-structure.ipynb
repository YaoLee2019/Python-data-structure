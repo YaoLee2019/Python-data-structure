{
 "cells": [
  {
   "cell_type": "code",
   "execution_count": 1,
   "metadata": {},
   "outputs": [
    {
     "name": "stdout",
     "output_type": "stream",
     "text": [
      "<__main__.tree object at 0x000001CF54210978>\n"
     ]
    }
   ],
   "source": [
    "\n",
    "\"\"\"\n",
    "File: buildtree\n",
    "Author: YaoLee\n",
    "\"\"\"\n",
    "\n",
    "class MyNode(object):\n",
    "    \"\"\"Represents a singly linked node\"\"\"\n",
    "\n",
    "    def __init__(self,data,left=None,right=None):\n",
    "        self.data = data\n",
    "        self.left = left\n",
    "        self.right = right\n",
    "\n",
    "\n",
    "class tree(MyNode):\n",
    "    #构建一个搜索二叉树\n",
    "\n",
    "    def __init__(self):\n",
    "        self.root = None\n",
    "\n",
    "    def add(self, item):\n",
    "\n",
    "        def recurse(node):\n",
    "\n",
    "            if item <node.data:\n",
    "                if node.left ==None:\n",
    "                    node.left = MyNode(item)\n",
    "                else:\n",
    "                    recurse(node.left)\n",
    "            elif node.right == None:\n",
    "                node.right=MyNode(item)\n",
    "            else:\n",
    "                recurse(node.right)\n",
    "        if self.root == None:\n",
    "            self.root=MyNode(item)\n",
    "        else:\n",
    "            recurse(self.root)\n",
    "\n",
    "if __name__ == '__main__':\n",
    "    mytree = tree()\n",
    "    mytree.add('A')\n",
    "    mytree.add('K')\n",
    "    mytree.add('D')\n",
    "    mytree.add('A')\n",
    "\n",
    "    print(mytree)\n",
    "\n"
   ]
  },
  {
   "cell_type": "code",
   "execution_count": null,
   "metadata": {},
   "outputs": [],
   "source": []
  }
 ],
 "metadata": {
  "kernelspec": {
   "display_name": "Python 3",
   "language": "python",
   "name": "python3"
  },
  "language_info": {
   "codemirror_mode": {
    "name": "ipython",
    "version": 3
   },
   "file_extension": ".py",
   "mimetype": "text/x-python",
   "name": "python",
   "nbconvert_exporter": "python",
   "pygments_lexer": "ipython3",
   "version": "3.7.1"
  }
 },
 "nbformat": 4,
 "nbformat_minor": 2
}
